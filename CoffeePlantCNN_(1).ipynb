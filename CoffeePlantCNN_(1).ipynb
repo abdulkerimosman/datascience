{
  "nbformat": 4,
  "nbformat_minor": 0,
  "metadata": {
    "colab": {
      "provenance": []
    },
    "kernelspec": {
      "name": "python3",
      "display_name": "Python 3"
    },
    "language_info": {
      "name": "python"
    }
  },
  "cells": [
    {
      "cell_type": "code",
      "execution_count": null,
      "metadata": {
        "id": "4-bgJfGzhibQ",
        "colab": {
          "base_uri": "https://localhost:8080/"
        },
        "outputId": "53a48f22-d6d8-4e74-cae0-4d7c979c9dbb"
      },
      "outputs": [
        {
          "output_type": "stream",
          "name": "stdout",
          "text": [
            "Drive already mounted at /content/drive; to attempt to forcibly remount, call drive.mount(\"/content/drive\", force_remount=True).\n"
          ]
        }
      ],
      "source": [
        "from google.colab import drive\n",
        "drive.mount('/content/drive')\n"
      ]
    },
    {
      "cell_type": "markdown",
      "source": [
        "Check how many images are in every folder"
      ],
      "metadata": {
        "id": "KRRHbo_XOTX1"
      }
    },
    {
      "cell_type": "code",
      "source": [
        "import os\n",
        "import glob\n",
        "import pandas as pd\n",
        "\n",
        "dataset_path = '/content/drive/MyDrive/mendeley_dataset'\n",
        "\n",
        "class_counts = {}\n",
        "class_image_paths = {}\n",
        "\n",
        "for class_name in os.listdir(dataset_path):\n",
        "    class_folder = os.path.join(dataset_path, class_name)\n",
        "    if os.path.isdir(class_folder):\n",
        "        images = glob.glob(os.path.join(class_folder, '*.jpg'))\n",
        "        class_counts[class_name] = len(images)\n",
        "        class_image_paths[class_name] = images\n",
        "\n",
        "df = pd.DataFrame(list(class_counts.items()), columns=[\"Class\", \"Count\"])\n",
        "df.sort_values(by=\"Count\", ascending=False, inplace=True)\n",
        "df.reset_index(drop=True, inplace=True)\n",
        "df\n"
      ],
      "metadata": {
        "id": "DCQ3VDARriwp",
        "colab": {
          "base_uri": "https://localhost:8080/",
          "height": 206
        },
        "outputId": "a5d6256e-1075-497d-8150-15647f71ee35"
      },
      "execution_count": null,
      "outputs": [
        {
          "output_type": "execute_result",
          "data": {
            "text/plain": [
              "         Class  Count\n",
              "0      Healthy  18983\n",
              "1        Miner  16978\n",
              "2    Leaf rust   8192\n",
              "3  Cerscospora   7681\n",
              "4        Phoma   6571"
            ],
            "text/html": [
              "\n",
              "  <div id=\"df-00158a7e-48af-400c-b6c1-8c8023764277\" class=\"colab-df-container\">\n",
              "    <div>\n",
              "<style scoped>\n",
              "    .dataframe tbody tr th:only-of-type {\n",
              "        vertical-align: middle;\n",
              "    }\n",
              "\n",
              "    .dataframe tbody tr th {\n",
              "        vertical-align: top;\n",
              "    }\n",
              "\n",
              "    .dataframe thead th {\n",
              "        text-align: right;\n",
              "    }\n",
              "</style>\n",
              "<table border=\"1\" class=\"dataframe\">\n",
              "  <thead>\n",
              "    <tr style=\"text-align: right;\">\n",
              "      <th></th>\n",
              "      <th>Class</th>\n",
              "      <th>Count</th>\n",
              "    </tr>\n",
              "  </thead>\n",
              "  <tbody>\n",
              "    <tr>\n",
              "      <th>0</th>\n",
              "      <td>Healthy</td>\n",
              "      <td>18983</td>\n",
              "    </tr>\n",
              "    <tr>\n",
              "      <th>1</th>\n",
              "      <td>Miner</td>\n",
              "      <td>16978</td>\n",
              "    </tr>\n",
              "    <tr>\n",
              "      <th>2</th>\n",
              "      <td>Leaf rust</td>\n",
              "      <td>8192</td>\n",
              "    </tr>\n",
              "    <tr>\n",
              "      <th>3</th>\n",
              "      <td>Cerscospora</td>\n",
              "      <td>7681</td>\n",
              "    </tr>\n",
              "    <tr>\n",
              "      <th>4</th>\n",
              "      <td>Phoma</td>\n",
              "      <td>6571</td>\n",
              "    </tr>\n",
              "  </tbody>\n",
              "</table>\n",
              "</div>\n",
              "    <div class=\"colab-df-buttons\">\n",
              "\n",
              "  <div class=\"colab-df-container\">\n",
              "    <button class=\"colab-df-convert\" onclick=\"convertToInteractive('df-00158a7e-48af-400c-b6c1-8c8023764277')\"\n",
              "            title=\"Convert this dataframe to an interactive table.\"\n",
              "            style=\"display:none;\">\n",
              "\n",
              "  <svg xmlns=\"http://www.w3.org/2000/svg\" height=\"24px\" viewBox=\"0 -960 960 960\">\n",
              "    <path d=\"M120-120v-720h720v720H120Zm60-500h600v-160H180v160Zm220 220h160v-160H400v160Zm0 220h160v-160H400v160ZM180-400h160v-160H180v160Zm440 0h160v-160H620v160ZM180-180h160v-160H180v160Zm440 0h160v-160H620v160Z\"/>\n",
              "  </svg>\n",
              "    </button>\n",
              "\n",
              "  <style>\n",
              "    .colab-df-container {\n",
              "      display:flex;\n",
              "      gap: 12px;\n",
              "    }\n",
              "\n",
              "    .colab-df-convert {\n",
              "      background-color: #E8F0FE;\n",
              "      border: none;\n",
              "      border-radius: 50%;\n",
              "      cursor: pointer;\n",
              "      display: none;\n",
              "      fill: #1967D2;\n",
              "      height: 32px;\n",
              "      padding: 0 0 0 0;\n",
              "      width: 32px;\n",
              "    }\n",
              "\n",
              "    .colab-df-convert:hover {\n",
              "      background-color: #E2EBFA;\n",
              "      box-shadow: 0px 1px 2px rgba(60, 64, 67, 0.3), 0px 1px 3px 1px rgba(60, 64, 67, 0.15);\n",
              "      fill: #174EA6;\n",
              "    }\n",
              "\n",
              "    .colab-df-buttons div {\n",
              "      margin-bottom: 4px;\n",
              "    }\n",
              "\n",
              "    [theme=dark] .colab-df-convert {\n",
              "      background-color: #3B4455;\n",
              "      fill: #D2E3FC;\n",
              "    }\n",
              "\n",
              "    [theme=dark] .colab-df-convert:hover {\n",
              "      background-color: #434B5C;\n",
              "      box-shadow: 0px 1px 3px 1px rgba(0, 0, 0, 0.15);\n",
              "      filter: drop-shadow(0px 1px 2px rgba(0, 0, 0, 0.3));\n",
              "      fill: #FFFFFF;\n",
              "    }\n",
              "  </style>\n",
              "\n",
              "    <script>\n",
              "      const buttonEl =\n",
              "        document.querySelector('#df-00158a7e-48af-400c-b6c1-8c8023764277 button.colab-df-convert');\n",
              "      buttonEl.style.display =\n",
              "        google.colab.kernel.accessAllowed ? 'block' : 'none';\n",
              "\n",
              "      async function convertToInteractive(key) {\n",
              "        const element = document.querySelector('#df-00158a7e-48af-400c-b6c1-8c8023764277');\n",
              "        const dataTable =\n",
              "          await google.colab.kernel.invokeFunction('convertToInteractive',\n",
              "                                                    [key], {});\n",
              "        if (!dataTable) return;\n",
              "\n",
              "        const docLinkHtml = 'Like what you see? Visit the ' +\n",
              "          '<a target=\"_blank\" href=https://colab.research.google.com/notebooks/data_table.ipynb>data table notebook</a>'\n",
              "          + ' to learn more about interactive tables.';\n",
              "        element.innerHTML = '';\n",
              "        dataTable['output_type'] = 'display_data';\n",
              "        await google.colab.output.renderOutput(dataTable, element);\n",
              "        const docLink = document.createElement('div');\n",
              "        docLink.innerHTML = docLinkHtml;\n",
              "        element.appendChild(docLink);\n",
              "      }\n",
              "    </script>\n",
              "  </div>\n",
              "\n",
              "\n",
              "    <div id=\"df-63926ae4-f6c7-4a69-a516-821a2ad1812e\">\n",
              "      <button class=\"colab-df-quickchart\" onclick=\"quickchart('df-63926ae4-f6c7-4a69-a516-821a2ad1812e')\"\n",
              "                title=\"Suggest charts\"\n",
              "                style=\"display:none;\">\n",
              "\n",
              "<svg xmlns=\"http://www.w3.org/2000/svg\" height=\"24px\"viewBox=\"0 0 24 24\"\n",
              "     width=\"24px\">\n",
              "    <g>\n",
              "        <path d=\"M19 3H5c-1.1 0-2 .9-2 2v14c0 1.1.9 2 2 2h14c1.1 0 2-.9 2-2V5c0-1.1-.9-2-2-2zM9 17H7v-7h2v7zm4 0h-2V7h2v10zm4 0h-2v-4h2v4z\"/>\n",
              "    </g>\n",
              "</svg>\n",
              "      </button>\n",
              "\n",
              "<style>\n",
              "  .colab-df-quickchart {\n",
              "      --bg-color: #E8F0FE;\n",
              "      --fill-color: #1967D2;\n",
              "      --hover-bg-color: #E2EBFA;\n",
              "      --hover-fill-color: #174EA6;\n",
              "      --disabled-fill-color: #AAA;\n",
              "      --disabled-bg-color: #DDD;\n",
              "  }\n",
              "\n",
              "  [theme=dark] .colab-df-quickchart {\n",
              "      --bg-color: #3B4455;\n",
              "      --fill-color: #D2E3FC;\n",
              "      --hover-bg-color: #434B5C;\n",
              "      --hover-fill-color: #FFFFFF;\n",
              "      --disabled-bg-color: #3B4455;\n",
              "      --disabled-fill-color: #666;\n",
              "  }\n",
              "\n",
              "  .colab-df-quickchart {\n",
              "    background-color: var(--bg-color);\n",
              "    border: none;\n",
              "    border-radius: 50%;\n",
              "    cursor: pointer;\n",
              "    display: none;\n",
              "    fill: var(--fill-color);\n",
              "    height: 32px;\n",
              "    padding: 0;\n",
              "    width: 32px;\n",
              "  }\n",
              "\n",
              "  .colab-df-quickchart:hover {\n",
              "    background-color: var(--hover-bg-color);\n",
              "    box-shadow: 0 1px 2px rgba(60, 64, 67, 0.3), 0 1px 3px 1px rgba(60, 64, 67, 0.15);\n",
              "    fill: var(--button-hover-fill-color);\n",
              "  }\n",
              "\n",
              "  .colab-df-quickchart-complete:disabled,\n",
              "  .colab-df-quickchart-complete:disabled:hover {\n",
              "    background-color: var(--disabled-bg-color);\n",
              "    fill: var(--disabled-fill-color);\n",
              "    box-shadow: none;\n",
              "  }\n",
              "\n",
              "  .colab-df-spinner {\n",
              "    border: 2px solid var(--fill-color);\n",
              "    border-color: transparent;\n",
              "    border-bottom-color: var(--fill-color);\n",
              "    animation:\n",
              "      spin 1s steps(1) infinite;\n",
              "  }\n",
              "\n",
              "  @keyframes spin {\n",
              "    0% {\n",
              "      border-color: transparent;\n",
              "      border-bottom-color: var(--fill-color);\n",
              "      border-left-color: var(--fill-color);\n",
              "    }\n",
              "    20% {\n",
              "      border-color: transparent;\n",
              "      border-left-color: var(--fill-color);\n",
              "      border-top-color: var(--fill-color);\n",
              "    }\n",
              "    30% {\n",
              "      border-color: transparent;\n",
              "      border-left-color: var(--fill-color);\n",
              "      border-top-color: var(--fill-color);\n",
              "      border-right-color: var(--fill-color);\n",
              "    }\n",
              "    40% {\n",
              "      border-color: transparent;\n",
              "      border-right-color: var(--fill-color);\n",
              "      border-top-color: var(--fill-color);\n",
              "    }\n",
              "    60% {\n",
              "      border-color: transparent;\n",
              "      border-right-color: var(--fill-color);\n",
              "    }\n",
              "    80% {\n",
              "      border-color: transparent;\n",
              "      border-right-color: var(--fill-color);\n",
              "      border-bottom-color: var(--fill-color);\n",
              "    }\n",
              "    90% {\n",
              "      border-color: transparent;\n",
              "      border-bottom-color: var(--fill-color);\n",
              "    }\n",
              "  }\n",
              "</style>\n",
              "\n",
              "      <script>\n",
              "        async function quickchart(key) {\n",
              "          const quickchartButtonEl =\n",
              "            document.querySelector('#' + key + ' button');\n",
              "          quickchartButtonEl.disabled = true;  // To prevent multiple clicks.\n",
              "          quickchartButtonEl.classList.add('colab-df-spinner');\n",
              "          try {\n",
              "            const charts = await google.colab.kernel.invokeFunction(\n",
              "                'suggestCharts', [key], {});\n",
              "          } catch (error) {\n",
              "            console.error('Error during call to suggestCharts:', error);\n",
              "          }\n",
              "          quickchartButtonEl.classList.remove('colab-df-spinner');\n",
              "          quickchartButtonEl.classList.add('colab-df-quickchart-complete');\n",
              "        }\n",
              "        (() => {\n",
              "          let quickchartButtonEl =\n",
              "            document.querySelector('#df-63926ae4-f6c7-4a69-a516-821a2ad1812e button');\n",
              "          quickchartButtonEl.style.display =\n",
              "            google.colab.kernel.accessAllowed ? 'block' : 'none';\n",
              "        })();\n",
              "      </script>\n",
              "    </div>\n",
              "\n",
              "  <div id=\"id_2ae0eff7-95cf-4bad-bbf6-67e65f8cc798\">\n",
              "    <style>\n",
              "      .colab-df-generate {\n",
              "        background-color: #E8F0FE;\n",
              "        border: none;\n",
              "        border-radius: 50%;\n",
              "        cursor: pointer;\n",
              "        display: none;\n",
              "        fill: #1967D2;\n",
              "        height: 32px;\n",
              "        padding: 0 0 0 0;\n",
              "        width: 32px;\n",
              "      }\n",
              "\n",
              "      .colab-df-generate:hover {\n",
              "        background-color: #E2EBFA;\n",
              "        box-shadow: 0px 1px 2px rgba(60, 64, 67, 0.3), 0px 1px 3px 1px rgba(60, 64, 67, 0.15);\n",
              "        fill: #174EA6;\n",
              "      }\n",
              "\n",
              "      [theme=dark] .colab-df-generate {\n",
              "        background-color: #3B4455;\n",
              "        fill: #D2E3FC;\n",
              "      }\n",
              "\n",
              "      [theme=dark] .colab-df-generate:hover {\n",
              "        background-color: #434B5C;\n",
              "        box-shadow: 0px 1px 3px 1px rgba(0, 0, 0, 0.15);\n",
              "        filter: drop-shadow(0px 1px 2px rgba(0, 0, 0, 0.3));\n",
              "        fill: #FFFFFF;\n",
              "      }\n",
              "    </style>\n",
              "    <button class=\"colab-df-generate\" onclick=\"generateWithVariable('df')\"\n",
              "            title=\"Generate code using this dataframe.\"\n",
              "            style=\"display:none;\">\n",
              "\n",
              "  <svg xmlns=\"http://www.w3.org/2000/svg\" height=\"24px\"viewBox=\"0 0 24 24\"\n",
              "       width=\"24px\">\n",
              "    <path d=\"M7,19H8.4L18.45,9,17,7.55,7,17.6ZM5,21V16.75L18.45,3.32a2,2,0,0,1,2.83,0l1.4,1.43a1.91,1.91,0,0,1,.58,1.4,1.91,1.91,0,0,1-.58,1.4L9.25,21ZM18.45,9,17,7.55Zm-12,3A5.31,5.31,0,0,0,4.9,8.1,5.31,5.31,0,0,0,1,6.5,5.31,5.31,0,0,0,4.9,4.9,5.31,5.31,0,0,0,6.5,1,5.31,5.31,0,0,0,8.1,4.9,5.31,5.31,0,0,0,12,6.5,5.46,5.46,0,0,0,6.5,12Z\"/>\n",
              "  </svg>\n",
              "    </button>\n",
              "    <script>\n",
              "      (() => {\n",
              "      const buttonEl =\n",
              "        document.querySelector('#id_2ae0eff7-95cf-4bad-bbf6-67e65f8cc798 button.colab-df-generate');\n",
              "      buttonEl.style.display =\n",
              "        google.colab.kernel.accessAllowed ? 'block' : 'none';\n",
              "\n",
              "      buttonEl.onclick = () => {\n",
              "        google.colab.notebook.generateWithVariable('df');\n",
              "      }\n",
              "      })();\n",
              "    </script>\n",
              "  </div>\n",
              "\n",
              "    </div>\n",
              "  </div>\n"
            ],
            "application/vnd.google.colaboratory.intrinsic+json": {
              "type": "dataframe",
              "variable_name": "df",
              "summary": "{\n  \"name\": \"df\",\n  \"rows\": 5,\n  \"fields\": [\n    {\n      \"column\": \"Class\",\n      \"properties\": {\n        \"dtype\": \"string\",\n        \"num_unique_values\": 5,\n        \"samples\": [\n          \"Miner\",\n          \"Phoma\",\n          \"Leaf rust\"\n        ],\n        \"semantic_type\": \"\",\n        \"description\": \"\"\n      }\n    },\n    {\n      \"column\": \"Count\",\n      \"properties\": {\n        \"dtype\": \"number\",\n        \"std\": 5823,\n        \"min\": 6571,\n        \"max\": 18983,\n        \"num_unique_values\": 5,\n        \"samples\": [\n          16978,\n          6571,\n          8192\n        ],\n        \"semantic_type\": \"\",\n        \"description\": \"\"\n      }\n    }\n  ]\n}"
            }
          },
          "metadata": {},
          "execution_count": 2
        }
      ]
    },
    {
      "cell_type": "markdown",
      "source": [
        "Check for corrupted images"
      ],
      "metadata": {
        "id": "Ny7Mfe1mOaJJ"
      }
    },
    {
      "cell_type": "code",
      "source": [
        "from PIL import Image\n",
        "import os\n",
        "\n",
        "folder_path = '/content/drive/MyDrive/mendeley_datasets'\n",
        "corrupted = []\n",
        "\n",
        "for root, dirs, files in os.walk(folder_path):\n",
        "    for file in files:\n",
        "        file_path = os.path.join(root, file)\n",
        "        try:\n",
        "            img = Image.open(file_path)\n",
        "            img.verify()  # Verify that it is, indeed, an image\n",
        "        except (IOError, SyntaxError) as e:\n",
        "            corrupted.append(file_path)\n",
        "\n",
        "print(f\"Found {len(corrupted)} corrupted images.\")\n"
      ],
      "metadata": {
        "id": "IfFEA1OGOdL4",
        "colab": {
          "base_uri": "https://localhost:8080/"
        },
        "outputId": "74969f31-0905-4ed7-a5b4-339cb7059449"
      },
      "execution_count": null,
      "outputs": [
        {
          "output_type": "stream",
          "name": "stdout",
          "text": [
            "Found 0 corrupted images.\n"
          ]
        }
      ]
    },
    {
      "cell_type": "markdown",
      "source": [
        "Check for duplicate files"
      ],
      "metadata": {
        "id": "ZhoduQGuPIRI"
      }
    },
    {
      "cell_type": "code",
      "source": [
        "pip install imagehash"
      ],
      "metadata": {
        "collapsed": true,
        "id": "_c4VrLDKPRsG",
        "colab": {
          "base_uri": "https://localhost:8080/"
        },
        "outputId": "254a5ea3-8451-49e9-9564-38b8932cc736"
      },
      "execution_count": null,
      "outputs": [
        {
          "output_type": "stream",
          "name": "stdout",
          "text": [
            "Requirement already satisfied: imagehash in /usr/local/lib/python3.11/dist-packages (4.3.2)\n",
            "Requirement already satisfied: PyWavelets in /usr/local/lib/python3.11/dist-packages (from imagehash) (1.8.0)\n",
            "Requirement already satisfied: numpy in /usr/local/lib/python3.11/dist-packages (from imagehash) (2.0.2)\n",
            "Requirement already satisfied: pillow in /usr/local/lib/python3.11/dist-packages (from imagehash) (11.2.1)\n",
            "Requirement already satisfied: scipy in /usr/local/lib/python3.11/dist-packages (from imagehash) (1.15.2)\n"
          ]
        }
      ]
    },
    {
      "cell_type": "code",
      "source": [
        "import imagehash\n",
        "from PIL import Image\n",
        "import os\n",
        "\n",
        "folder_path = '/content/drive/MyDrive/mendeley_datasets'\n",
        "hashes = {}\n",
        "duplicates = []\n",
        "\n",
        "for root, dirs, files in os.walk(folder_path):\n",
        "    for file in files:\n",
        "        file_path = os.path.join(root, file)\n",
        "        try:\n",
        "            img = Image.open(file_path)\n",
        "            img_hash = imagehash.average_hash(img)\n",
        "            if img_hash in hashes:\n",
        "                duplicates.append((file_path, hashes[img_hash]))\n",
        "            else:\n",
        "                hashes[img_hash] = file_path\n",
        "        except Exception as e:\n",
        "            pass\n",
        "\n",
        "print(f\"Found {len(duplicates)} duplicate images.\")\n"
      ],
      "metadata": {
        "id": "TO5VKfbPPNVC",
        "colab": {
          "base_uri": "https://localhost:8080/"
        },
        "outputId": "14eb72cb-c055-4f58-8a7d-8531ac478b66"
      },
      "execution_count": null,
      "outputs": [
        {
          "output_type": "stream",
          "name": "stdout",
          "text": [
            "Found 0 duplicate images.\n"
          ]
        }
      ]
    },
    {
      "cell_type": "markdown",
      "source": [
        "Exploratory Data Analysis"
      ],
      "metadata": {
        "id": "J7T6eOTzQS_C"
      }
    },
    {
      "cell_type": "markdown",
      "source": [
        "Bar plot to see how balanced the data set is. Sample images grid to see how some of the images in the 5 classes look like."
      ],
      "metadata": {
        "id": "NecEwto5Zq1_"
      }
    },
    {
      "cell_type": "code",
      "source": [
        "\"\"\"# Install necessary packages if not already installed\n",
        "!pip install -q seaborn\n",
        "\n",
        "# Import libraries\n",
        "import os\n",
        "import random\n",
        "import matplotlib.pyplot as plt\n",
        "import seaborn as sns\n",
        "from PIL import Image\n",
        "import pandas as pd\n",
        "\n",
        "# Set your dataset folder path\n",
        "dataset_path = '/content/drive/MyDrive/mendeley_dataset'\n",
        "\n",
        "# Define class labels\n",
        "class_labels = {\n",
        "    'Healthy': 'Healthy',\n",
        "    'Miner': 'Miner',\n",
        "    'Leaf rust': 'Leaf Rust',\n",
        "    'Cerscospora': 'Cercospora',\n",
        "    'Phoma': 'Phoma'\n",
        "}\n",
        "\n",
        "# Step 1: Count number of images per class\n",
        "image_counts = {}\n",
        "\n",
        "for folder in os.listdir(dataset_path):\n",
        "    folder_path = os.path.join(dataset_path, folder)\n",
        "    if os.path.isdir(folder_path):\n",
        "        image_files = [f for f in os.listdir(folder_path) if f.endswith(('.jpg', '.jpeg', '.png'))]\n",
        "        image_counts[class_labels.get(folder, folder)] = len(image_files)\n",
        "\n",
        "# Plotting the image counts\n",
        "plt.figure(figsize=(10,6))\n",
        "sns.barplot(x=list(image_counts.keys()), y=list(image_counts.values()), palette='viridis')\n",
        "plt.title('Number of Images per Class')\n",
        "plt.ylabel('Number of Images')\n",
        "plt.xlabel('Disease Class')\n",
        "plt.xticks(rotation=45)\n",
        "plt.show();\n",
        "\n",
        "# Step 2: Display some sample images from each class\n",
        "fig, axes = plt.subplots(5, 5, figsize=(15, 15))\n",
        "fig.suptitle('Sample Images from Each Class', fontsize=20)\n",
        "\n",
        "for idx, (folder, label) in enumerate(class_labels.items()):\n",
        "    folder_path = os.path.join(dataset_path, folder)\n",
        "    image_files = [f for f in os.listdir(folder_path) if f.endswith(('.jpg', '.jpeg', '.png'))]\n",
        "    selected_files = random.sample(image_files, 5)  # Pick 5 random images per class\n",
        "\n",
        "    for j in range(5):\n",
        "        img_path = os.path.join(folder_path, selected_files[j])\n",
        "        img = Image.open(img_path)\n",
        "        ax = axes[idx, j]\n",
        "        ax.imshow(img)\n",
        "        ax.axis('off')\n",
        "        if j == 0:\n",
        "            ax.set_title(label, fontsize=12)\n",
        "\n",
        "plt.tight_layout()\n",
        "plt.show()\"\"\"\n",
        "\n"
      ],
      "metadata": {
        "id": "pK15bTf9QShA",
        "colab": {
          "base_uri": "https://localhost:8080/",
          "height": 192
        },
        "outputId": "8dbd4489-4f07-41c3-f5e4-e8f589ec1a38"
      },
      "execution_count": null,
      "outputs": [
        {
          "output_type": "execute_result",
          "data": {
            "text/plain": [
              "\"# Install necessary packages if not already installed\\n!pip install -q seaborn\\n\\n# Import libraries\\nimport os\\nimport random\\nimport matplotlib.pyplot as plt\\nimport seaborn as sns\\nfrom PIL import Image\\nimport pandas as pd\\n\\n# Set your dataset folder path\\ndataset_path = '/content/drive/MyDrive/mendeley_dataset'\\n\\n# Define class labels\\nclass_labels = {\\n    'Healthy': 'Healthy',\\n    'Miner': 'Miner',\\n    'Leaf rust': 'Leaf Rust',\\n    'Cerscospora': 'Cercospora',\\n    'Phoma': 'Phoma'\\n}\\n\\n# Step 1: Count number of images per class\\nimage_counts = {}\\n\\nfor folder in os.listdir(dataset_path):\\n    folder_path = os.path.join(dataset_path, folder)\\n    if os.path.isdir(folder_path):\\n        image_files = [f for f in os.listdir(folder_path) if f.endswith(('.jpg', '.jpeg', '.png'))]\\n        image_counts[class_labels.get(folder, folder)] = len(image_files)\\n\\n# Plotting the image counts\\nplt.figure(figsize=(10,6))\\nsns.barplot(x=list(image_counts.keys()), y=list(image_counts.values()), palette='viridis')\\nplt.title('Number of Images per Class')\\nplt.ylabel('Number of Images')\\nplt.xlabel('Disease Class')\\nplt.xticks(rotation=45)\\nplt.show();\\n\\n# Step 2: Display some sample images from each class\\nfig, axes = plt.subplots(5, 5, figsize=(15, 15))\\nfig.suptitle('Sample Images from Each Class', fontsize=20)\\n\\nfor idx, (folder, label) in enumerate(class_labels.items()):\\n    folder_path = os.path.join(dataset_path, folder)\\n    image_files = [f for f in os.listdir(folder_path) if f.endswith(('.jpg', '.jpeg', '.png'))]\\n    selected_files = random.sample(image_files, 5)  # Pick 5 random images per class\\n\\n    for j in range(5):\\n        img_path = os.path.join(folder_path, selected_files[j])\\n        img = Image.open(img_path)\\n        ax = axes[idx, j]\\n        ax.imshow(img)\\n        ax.axis('off')\\n        if j == 0:\\n            ax.set_title(label, fontsize=12)\\n\\nplt.tight_layout()\\nplt.show()\""
            ],
            "application/vnd.google.colaboratory.intrinsic+json": {
              "type": "string"
            }
          },
          "metadata": {},
          "execution_count": 6
        }
      ]
    },
    {
      "cell_type": "markdown",
      "source": [
        "Check the variation in the size of the images in the data set"
      ],
      "metadata": {
        "id": "QvMLkfElapoe"
      }
    },
    {
      "cell_type": "code",
      "source": [
        "\"\"\"# (Optional) Step 3: Analyze image size distribution\n",
        "image_sizes = []\n",
        "\n",
        "for folder in os.listdir(dataset_path):\n",
        "    folder_path = os.path.join(dataset_path, folder)\n",
        "    if os.path.isdir(folder_path):\n",
        "        image_files = [f for f in os.listdir(folder_path) if f.endswith(('.jpg', '.jpeg', '.png'))]\n",
        "        for img_file in image_files:\n",
        "            img_path = os.path.join(folder_path, img_file)\n",
        "            img = Image.open(img_path)\n",
        "            image_sizes.append(img.size)\n",
        "\n",
        "# Convert sizes to DataFrame\n",
        "sizes_df = pd.DataFrame(image_sizes, columns=['Width', 'Height'])\n",
        "\n",
        "plt.figure(figsize=(10,6))\n",
        "sns.histplot(sizes_df['Width'], bins=30, kde=True, color='blue', label='Width')\n",
        "sns.histplot(sizes_df['Height'], bins=30, kde=True, color='red', label='Height')\n",
        "plt.title('Distribution of Image Widths and Heights')\n",
        "plt.xlabel('Pixels')\n",
        "plt.ylabel('Count')\n",
        "plt.legend()\n",
        "plt.show();\"\"\""
      ],
      "metadata": {
        "id": "FgWzY1r2QSdc",
        "colab": {
          "base_uri": "https://localhost:8080/",
          "height": 174
        },
        "outputId": "088c845c-8f31-45ac-a5cd-10bd9e9d7579"
      },
      "execution_count": null,
      "outputs": [
        {
          "output_type": "execute_result",
          "data": {
            "text/plain": [
              "\"# (Optional) Step 3: Analyze image size distribution\\nimage_sizes = []\\n\\nfor folder in os.listdir(dataset_path):\\n    folder_path = os.path.join(dataset_path, folder)\\n    if os.path.isdir(folder_path):\\n        image_files = [f for f in os.listdir(folder_path) if f.endswith(('.jpg', '.jpeg', '.png'))]\\n        for img_file in image_files:\\n            img_path = os.path.join(folder_path, img_file)\\n            img = Image.open(img_path)\\n            image_sizes.append(img.size)\\n\\n# Convert sizes to DataFrame\\nsizes_df = pd.DataFrame(image_sizes, columns=['Width', 'Height'])\\n\\nplt.figure(figsize=(10,6))\\nsns.histplot(sizes_df['Width'], bins=30, kde=True, color='blue', label='Width')\\nsns.histplot(sizes_df['Height'], bins=30, kde=True, color='red', label='Height')\\nplt.title('Distribution of Image Widths and Heights')\\nplt.xlabel('Pixels')\\nplt.ylabel('Count')\\nplt.legend()\\nplt.show();\""
            ],
            "application/vnd.google.colaboratory.intrinsic+json": {
              "type": "string"
            }
          },
          "metadata": {},
          "execution_count": 7
        }
      ]
    },
    {
      "cell_type": "code",
      "source": [
        "#sizes_df[sizes_df['Height'] != sizes_df['Width']].count()"
      ],
      "metadata": {
        "id": "z1bB8mpgQSbD"
      },
      "execution_count": null,
      "outputs": []
    },
    {
      "cell_type": "code",
      "source": [
        "#sizes_df['Height'].unique()"
      ],
      "metadata": {
        "id": "vBYIN7gvQSYo"
      },
      "execution_count": null,
      "outputs": []
    },
    {
      "cell_type": "code",
      "source": [
        "#sizes_df.describe()"
      ],
      "metadata": {
        "id": "ELDBlBpSQR5x"
      },
      "execution_count": null,
      "outputs": []
    },
    {
      "cell_type": "code",
      "source": [
        "\"\"\"# Group by Width and Height, and count how many times each pair appears\n",
        "size_counts = sizes_df.groupby(['Width', 'Height']).size().reset_index(name='Count')\n",
        "\n",
        "# Sort descending by frequency\n",
        "size_counts = size_counts.sort_values(by='Count', ascending=False)\n",
        "\n",
        "# Display the result\n",
        "print(size_counts)\n",
        "\n",
        "# Plot number of images per (Width, Height) pair\n",
        "plt.figure(figsize=(12,8))\n",
        "sns.barplot(\n",
        "    data=size_counts,\n",
        "    x='Count',\n",
        "    y=size_counts.apply(lambda row: f\"{row['Width']}x{row['Height']}\", axis=1),\n",
        "    palette='mako'\n",
        ")\n",
        "plt.title('Frequency of Image Sizes')\n",
        "plt.xlabel('Number of Images')\n",
        "plt.ylabel('Image Size (Width x Height)')\n",
        "plt.show()\"\"\""
      ],
      "metadata": {
        "collapsed": true,
        "id": "kN4ZoZx3g0R7",
        "colab": {
          "base_uri": "https://localhost:8080/",
          "height": 140
        },
        "outputId": "1c7ed119-14f7-4149-ed87-a32c49317811"
      },
      "execution_count": null,
      "outputs": [
        {
          "output_type": "execute_result",
          "data": {
            "text/plain": [
              "'# Group by Width and Height, and count how many times each pair appears\\nsize_counts = sizes_df.groupby([\\'Width\\', \\'Height\\']).size().reset_index(name=\\'Count\\')\\n\\n# Sort descending by frequency\\nsize_counts = size_counts.sort_values(by=\\'Count\\', ascending=False)\\n\\n# Display the result\\nprint(size_counts)\\n\\n# Plot number of images per (Width, Height) pair\\nplt.figure(figsize=(12,8))\\nsns.barplot(\\n    data=size_counts,\\n    x=\\'Count\\',\\n    y=size_counts.apply(lambda row: f\"{row[\\'Width\\']}x{row[\\'Height\\']}\", axis=1),\\n    palette=\\'mako\\'\\n)\\nplt.title(\\'Frequency of Image Sizes\\')\\nplt.xlabel(\\'Number of Images\\')\\nplt.ylabel(\\'Image Size (Width x Height)\\')\\nplt.show()'"
            ],
            "application/vnd.google.colaboratory.intrinsic+json": {
              "type": "string"
            }
          },
          "metadata": {},
          "execution_count": 11
        }
      ]
    },
    {
      "cell_type": "code",
      "source": [
        "\"\"\"# First, group and count (already done before)\n",
        "size_counts = sizes_df.groupby(['Width', 'Height']).size().reset_index(name='Count')\n",
        "\n",
        "# Remove (128, 128) from the table\n",
        "size_counts_filtered = size_counts[~((size_counts['Width'] == 128) & (size_counts['Height'] == 128))]\n",
        "\n",
        "# Sort (optional, for nice plot)\n",
        "size_counts_filtered = size_counts_filtered.sort_values(by='Count', ascending=False)\n",
        "\n",
        "# Plot\n",
        "plt.figure(figsize=(12,8))\n",
        "sns.barplot(\n",
        "    data=size_counts_filtered,\n",
        "    x='Count',\n",
        "    y=size_counts_filtered.apply(lambda row: f\"{row['Width']}x{row['Height']}\", axis=1),\n",
        "    palette='mako'\n",
        ")\n",
        "plt.title('Frequency of Image Sizes (excluding 128x128)')\n",
        "plt.xlabel('Number of Images')\n",
        "plt.ylabel('Image Size (Width x Height)')\n",
        "plt.show()\"\"\""
      ],
      "metadata": {
        "id": "jq3qIBiTnJN-",
        "colab": {
          "base_uri": "https://localhost:8080/",
          "height": 157
        },
        "outputId": "ff697e38-cad7-42fb-f19a-2327dca13cba"
      },
      "execution_count": null,
      "outputs": [
        {
          "output_type": "execute_result",
          "data": {
            "text/plain": [
              "'# First, group and count (already done before)\\nsize_counts = sizes_df.groupby([\\'Width\\', \\'Height\\']).size().reset_index(name=\\'Count\\')\\n\\n# Remove (128, 128) from the table\\nsize_counts_filtered = size_counts[~((size_counts[\\'Width\\'] == 128) & (size_counts[\\'Height\\'] == 128))]\\n\\n# Sort (optional, for nice plot)\\nsize_counts_filtered = size_counts_filtered.sort_values(by=\\'Count\\', ascending=False)\\n\\n# Plot\\nplt.figure(figsize=(12,8))\\nsns.barplot(\\n    data=size_counts_filtered,\\n    x=\\'Count\\',\\n    y=size_counts_filtered.apply(lambda row: f\"{row[\\'Width\\']}x{row[\\'Height\\']}\", axis=1),\\n    palette=\\'mako\\'\\n)\\nplt.title(\\'Frequency of Image Sizes (excluding 128x128)\\')\\nplt.xlabel(\\'Number of Images\\')\\nplt.ylabel(\\'Image Size (Width x Height)\\')\\nplt.show()'"
            ],
            "application/vnd.google.colaboratory.intrinsic+json": {
              "type": "string"
            }
          },
          "metadata": {},
          "execution_count": 12
        }
      ]
    },
    {
      "cell_type": "markdown",
      "source": [
        "Feature Engineering: Image resizing and Normalization"
      ],
      "metadata": {
        "id": "zT2DLjdvbZ_H"
      }
    },
    {
      "cell_type": "code",
      "source": [
        "!pip install -q tensorflow"
      ],
      "metadata": {
        "id": "cx7SaoNQsYmR"
      },
      "execution_count": null,
      "outputs": []
    },
    {
      "cell_type": "markdown",
      "source": [
        "Imports and Setup"
      ],
      "metadata": {
        "id": "hxTUv3Jxx2Vw"
      }
    },
    {
      "cell_type": "code",
      "source": [
        "import os\n",
        "import numpy as np\n",
        "import matplotlib.pyplot as plt\n",
        "import seaborn as sns\n",
        "from PIL import Image\n",
        "import tensorflow as tf\n",
        "\n",
        "from sklearn.model_selection import StratifiedKFold, train_test_split\n",
        "from sklearn.utils.class_weight import compute_class_weight\n",
        "from sklearn.metrics import classification_report, confusion_matrix\n"
      ],
      "metadata": {
        "id": "0LVKZJ_Hx6ry"
      },
      "execution_count": null,
      "outputs": []
    },
    {
      "cell_type": "markdown",
      "source": [
        "Load Dataset and Prepare Hold-Out Test Set"
      ],
      "metadata": {
        "id": "8sIqlRIgx9i1"
      }
    },
    {
      "cell_type": "code",
      "source": [
        "# Parameters\n",
        "IMG_HEIGHT = 128\n",
        "IMG_WIDTH = 128\n",
        "NUM_CLASSES = 5\n",
        "BATCH_SIZE = 32\n",
        "EPOCHS = 20\n",
        "KFOLDS = 3\n",
        "\n",
        "# Dataset path\n",
        "data_dir = '/content/drive/MyDrive/mendeley_dataset'\n",
        "\n",
        "# Map class names to labels\n",
        "class_names = sorted(os.listdir(data_dir))\n",
        "class_to_idx = {cls_name: idx for idx, cls_name in enumerate(class_names)}\n",
        "\n",
        "# Load all image paths and labels\n",
        "image_paths = []\n",
        "labels = []\n",
        "\n",
        "for cls in class_names:\n",
        "    folder = os.path.join(data_dir, cls)\n",
        "    for img_file in os.listdir(folder):\n",
        "        if img_file.lower().endswith(('jpg', 'jpeg', 'png')):\n",
        "            image_paths.append(os.path.join(folder, img_file))\n",
        "            labels.append(class_to_idx[cls])\n",
        "\n",
        "image_paths = np.array(image_paths)\n",
        "labels = np.array(labels)\n",
        "\n",
        "# Split off 15% as the hold-out test set\n",
        "image_paths_trainval, image_paths_test, labels_trainval, labels_test = train_test_split(\n",
        "    image_paths, labels, test_size=0.15, stratify=labels, random_state=42\n",
        ")\n"
      ],
      "metadata": {
        "id": "LsfVC752x9IC"
      },
      "execution_count": null,
      "outputs": []
    },
    {
      "cell_type": "markdown",
      "source": [
        "Dataset Loader with tf.data"
      ],
      "metadata": {
        "id": "I1YJpaD7yGNU"
      }
    },
    {
      "cell_type": "code",
      "source": [
        "def preprocess_image(file_path, label):\n",
        "    img = tf.io.read_file(file_path)\n",
        "    img = tf.image.decode_jpeg(img, channels=3)\n",
        "    img = tf.image.resize(img, [IMG_HEIGHT, IMG_WIDTH])\n",
        "    img = img / 255.0\n",
        "    return img, tf.one_hot(label, NUM_CLASSES)\n",
        "\n",
        "def get_dataset(paths, labels):\n",
        "    ds = tf.data.Dataset.from_tensor_slices((paths, labels))\n",
        "    ds = ds.map(preprocess_image, num_parallel_calls=tf.data.AUTOTUNE)\n",
        "    ds = ds.batch(BATCH_SIZE).prefetch(tf.data.AUTOTUNE)\n",
        "    return ds\n"
      ],
      "metadata": {
        "id": "xW9Tc5AryBr5"
      },
      "execution_count": null,
      "outputs": []
    },
    {
      "cell_type": "markdown",
      "source": [
        "K-Fold Training Loop"
      ],
      "metadata": {
        "id": "j0kwgHYSyHm7"
      }
    },
    {
      "cell_type": "code",
      "source": [
        "skf = StratifiedKFold(n_splits=KFOLDS, shuffle=True, random_state=42)\n",
        "fold = 1\n",
        "all_fold_accuracies = []\n",
        "\n",
        "for train_idx, val_idx in skf.split(image_paths_trainval, labels_trainval):\n",
        "    print(f\"\\n--- Fold {fold} ---\")\n",
        "\n",
        "    train_paths = image_paths_trainval[train_idx]\n",
        "    val_paths = image_paths_trainval[val_idx]\n",
        "    y_train = labels_trainval[train_idx]\n",
        "    y_val = labels_trainval[val_idx]\n",
        "\n",
        "    train_ds = get_dataset(train_paths, y_train)\n",
        "    val_ds = get_dataset(val_paths, y_val)\n",
        "\n",
        "    # Class weights\n",
        "    class_weights = compute_class_weight(\n",
        "        class_weight='balanced',\n",
        "        classes=np.unique(y_train),\n",
        "        y=y_train\n",
        "    )\n",
        "    class_weights_dict = dict(enumerate(class_weights))\n",
        "\n",
        "    # Define model\n",
        "    model = tf.keras.Sequential([\n",
        "        tf.keras.layers.Conv2D(32, (3,3), activation='relu', input_shape=(IMG_HEIGHT, IMG_WIDTH, 3)),\n",
        "        tf.keras.layers.MaxPooling2D(2,2),\n",
        "        tf.keras.layers.Conv2D(64, (3,3), activation='relu'),\n",
        "        tf.keras.layers.MaxPooling2D(2,2),\n",
        "        tf.keras.layers.Conv2D(128, (3,3), activation='relu'),\n",
        "        tf.keras.layers.MaxPooling2D(2,2),\n",
        "        tf.keras.layers.Flatten(),\n",
        "        tf.keras.layers.Dense(128, activation='relu'),\n",
        "        tf.keras.layers.Dropout(0.5),\n",
        "        tf.keras.layers.Dense(NUM_CLASSES, activation='softmax')\n",
        "    ])\n",
        "\n",
        "    model.compile(optimizer='adam', loss='categorical_crossentropy', metrics=['accuracy'])\n",
        "    early_stop = tf.keras.callbacks.EarlyStopping(monitor='val_loss', patience=5, restore_best_weights=True)\n",
        "\n",
        "    # Train\n",
        "    history = model.fit(train_ds,\n",
        "                        validation_data=val_ds,\n",
        "                        epochs=EPOCHS,\n",
        "                        class_weight=class_weights_dict,\n",
        "                        callbacks=[early_stop],\n",
        "                        verbose=2)\n",
        "\n",
        "    model.save(f'model_fold_{fold}.h5')\n",
        "\n",
        "    # Evaluate\n",
        "    val_accuracy = history.history['val_accuracy'][-1]\n",
        "    all_fold_accuracies.append(val_accuracy)\n",
        "\n",
        "    # Plotting\n",
        "    plt.figure(figsize=(14,5))\n",
        "    plt.subplot(1,2,1)\n",
        "    plt.plot(history.history['accuracy'], label='Train Accuracy')\n",
        "    plt.plot(history.history['val_accuracy'], label='Val Accuracy')\n",
        "    plt.title(f'Accuracy - Fold {fold}')\n",
        "    plt.xlabel('Epoch'); plt.ylabel('Accuracy'); plt.legend()\n",
        "\n",
        "    plt.subplot(1,2,2)\n",
        "    plt.plot(history.history['loss'], label='Train Loss')\n",
        "    plt.plot(history.history['val_loss'], label='Val Loss')\n",
        "    plt.title(f'Loss - Fold {fold}')\n",
        "    plt.xlabel('Epoch'); plt.ylabel('Loss'); plt.legend()\n",
        "\n",
        "    plt.tight_layout()\n",
        "    plt.show()\n",
        "\n",
        "    fold += 1\n"
      ],
      "metadata": {
        "colab": {
          "base_uri": "https://localhost:8080/",
          "height": 1000
        },
        "id": "lo1Vr0ljyKAJ",
        "outputId": "88f354da-8689-4deb-b3a7-805eb8d58912"
      },
      "execution_count": null,
      "outputs": [
        {
          "output_type": "stream",
          "name": "stdout",
          "text": [
            "\n",
            "--- Fold 1 ---\n",
            "Epoch 1/20\n"
          ]
        },
        {
          "output_type": "stream",
          "name": "stderr",
          "text": [
            "/usr/local/lib/python3.11/dist-packages/keras/src/layers/convolutional/base_conv.py:107: UserWarning: Do not pass an `input_shape`/`input_dim` argument to a layer. When using Sequential models, prefer using an `Input(shape)` object as the first layer in the model instead.\n",
            "  super().__init__(activity_regularizer=activity_regularizer, **kwargs)\n"
          ]
        },
        {
          "output_type": "stream",
          "name": "stdout",
          "text": [
            "1037/1037 - 1002s - 967ms/step - accuracy: 0.9173 - loss: 0.2452 - val_accuracy: 0.9980 - val_loss: 0.0103\n",
            "Epoch 2/20\n",
            "1037/1037 - 867s - 836ms/step - accuracy: 0.9868 - loss: 0.0505 - val_accuracy: 0.9998 - val_loss: 0.0028\n",
            "Epoch 3/20\n",
            "1037/1037 - 882s - 850ms/step - accuracy: 0.9936 - loss: 0.0247 - val_accuracy: 0.9916 - val_loss: 0.0250\n",
            "Epoch 4/20\n",
            "1037/1037 - 825s - 795ms/step - accuracy: 0.9929 - loss: 0.0270 - val_accuracy: 0.9993 - val_loss: 8.2781e-04\n",
            "Epoch 5/20\n",
            "1037/1037 - 856s - 825ms/step - accuracy: 0.9945 - loss: 0.0235 - val_accuracy: 1.0000 - val_loss: 3.0702e-06\n",
            "Epoch 6/20\n",
            "1037/1037 - 851s - 820ms/step - accuracy: 0.9964 - loss: 0.0145 - val_accuracy: 1.0000 - val_loss: 2.5466e-06\n",
            "Epoch 7/20\n",
            "1037/1037 - 835s - 805ms/step - accuracy: 0.9968 - loss: 0.0126 - val_accuracy: 1.0000 - val_loss: 2.5138e-05\n",
            "Epoch 8/20\n",
            "1037/1037 - 891s - 859ms/step - accuracy: 0.9938 - loss: 0.0268 - val_accuracy: 1.0000 - val_loss: 1.9727e-05\n",
            "Epoch 9/20\n",
            "1037/1037 - 847s - 817ms/step - accuracy: 0.9971 - loss: 0.0137 - val_accuracy: 1.0000 - val_loss: 7.9115e-06\n",
            "Epoch 10/20\n",
            "1037/1037 - 838s - 808ms/step - accuracy: 0.9989 - loss: 0.0049 - val_accuracy: 1.0000 - val_loss: 1.5275e-04\n",
            "Epoch 11/20\n",
            "1037/1037 - 857s - 826ms/step - accuracy: 0.9957 - loss: 0.0209 - val_accuracy: 1.0000 - val_loss: 3.0395e-06\n"
          ]
        },
        {
          "output_type": "stream",
          "name": "stderr",
          "text": [
            "WARNING:absl:You are saving your model as an HDF5 file via `model.save()` or `keras.saving.save_model(model)`. This file format is considered legacy. We recommend using instead the native Keras format, e.g. `model.save('my_model.keras')` or `keras.saving.save_model(model, 'my_model.keras')`. \n"
          ]
        },
        {
          "output_type": "display_data",
          "data": {
            "text/plain": [
              "<Figure size 1400x500 with 2 Axes>"
            ],
            "image/png": "[encoded data removed]"
          },
          "metadata": {}
        },
        {
          "output_type": "stream",
          "name": "stdout",
          "text": [
            "\n",
            "--- Fold 2 ---\n"
          ]
        },
        {
          "output_type": "stream",
          "name": "stderr",
          "text": [
            "/usr/local/lib/python3.11/dist-packages/keras/src/layers/convolutional/base_conv.py:107: UserWarning: Do not pass an `input_shape`/`input_dim` argument to a layer. When using Sequential models, prefer using an `Input(shape)` object as the first layer in the model instead.\n",
            "  super().__init__(activity_regularizer=activity_regularizer, **kwargs)\n"
          ]
        },
        {
          "output_type": "stream",
          "name": "stdout",
          "text": [
            "Epoch 1/20\n",
            "1037/1037 - 880s - 848ms/step - accuracy: 0.9101 - loss: 0.2587 - val_accuracy: 0.8520 - val_loss: 0.3691\n",
            "Epoch 2/20\n",
            "1037/1037 - 921s - 888ms/step - accuracy: 0.9814 - loss: 0.0631 - val_accuracy: 1.0000 - val_loss: 0.0021\n",
            "Epoch 3/20\n",
            "1037/1037 - 883s - 851ms/step - accuracy: 0.9919 - loss: 0.0293 - val_accuracy: 1.0000 - val_loss: 3.3000e-04\n",
            "Epoch 4/20\n",
            "1037/1037 - 883s - 851ms/step - accuracy: 0.9939 - loss: 0.0244 - val_accuracy: 1.0000 - val_loss: 1.8405e-04\n",
            "Epoch 5/20\n",
            "1037/1037 - 921s - 888ms/step - accuracy: 0.9938 - loss: 0.0236 - val_accuracy: 1.0000 - val_loss: 1.2878e-05\n",
            "Epoch 6/20\n",
            "1037/1037 - 911s - 878ms/step - accuracy: 0.9963 - loss: 0.0160 - val_accuracy: 1.0000 - val_loss: 8.7428e-06\n",
            "Epoch 7/20\n",
            "1037/1037 - 878s - 847ms/step - accuracy: 0.9964 - loss: 0.0134 - val_accuracy: 1.0000 - val_loss: 5.2956e-05\n",
            "Epoch 8/20\n",
            "1037/1037 - 893s - 861ms/step - accuracy: 0.9963 - loss: 0.0156 - val_accuracy: 0.9993 - val_loss: 0.0075\n",
            "Epoch 9/20\n",
            "1037/1037 - 906s - 874ms/step - accuracy: 0.9967 - loss: 0.0122 - val_accuracy: 1.0000 - val_loss: 1.1319e-05\n",
            "Epoch 10/20\n",
            "1037/1037 - 823s - 793ms/step - accuracy: 0.9952 - loss: 0.0193 - val_accuracy: 1.0000 - val_loss: 3.4701e-05\n",
            "Epoch 11/20\n",
            "1037/1037 - 845s - 815ms/step - accuracy: 0.9979 - loss: 0.0089 - val_accuracy: 0.9994 - val_loss: 0.0028\n"
          ]
        },
        {
          "output_type": "stream",
          "name": "stderr",
          "text": [
            "WARNING:absl:You are saving your model as an HDF5 file via `model.save()` or `keras.saving.save_model(model)`. This file format is considered legacy. We recommend using instead the native Keras format, e.g. `model.save('my_model.keras')` or `keras.saving.save_model(model, 'my_model.keras')`. \n"
          ]
        },
        {
          "output_type": "display_data",
          "data": {
            "text/plain": [
              "<Figure size 1400x500 with 2 Axes>"
            ],
            "image/png": "[encoded data removed]"
          },
          "metadata": {}
        },
        {
          "output_type": "stream",
          "name": "stdout",
          "text": [
            "\n",
            "--- Fold 3 ---\n",
            "Epoch 1/20\n"
          ]
        },
        {
          "output_type": "stream",
          "name": "stderr",
          "text": [
            "/usr/local/lib/python3.11/dist-packages/keras/src/layers/convolutional/base_conv.py:107: UserWarning: Do not pass an `input_shape`/`input_dim` argument to a layer. When using Sequential models, prefer using an `Input(shape)` object as the first layer in the model instead.\n",
            "  super().__init__(activity_regularizer=activity_regularizer, **kwargs)\n"
          ]
        },
        {
          "output_type": "stream",
          "name": "stdout",
          "text": [
            "1037/1037 - 858s - 828ms/step - accuracy: 0.9187 - loss: 0.2419 - val_accuracy: 0.9994 - val_loss: 0.0028\n",
            "Epoch 2/20\n",
            "1037/1037 - 854s - 823ms/step - accuracy: 0.9851 - loss: 0.0533 - val_accuracy: 1.0000 - val_loss: 8.8806e-04\n",
            "Epoch 3/20\n",
            "1037/1037 - 828s - 798ms/step - accuracy: 0.9922 - loss: 0.0276 - val_accuracy: 1.0000 - val_loss: 2.1023e-04\n",
            "Epoch 4/20\n",
            "1037/1037 - 823s - 793ms/step - accuracy: 0.9947 - loss: 0.0196 - val_accuracy: 1.0000 - val_loss: 1.4389e-04\n",
            "Epoch 5/20\n",
            "1037/1037 - 835s - 805ms/step - accuracy: 0.9941 - loss: 0.0231 - val_accuracy: 0.9925 - val_loss: 0.0219\n",
            "Epoch 6/20\n",
            "1037/1037 - 866s - 835ms/step - accuracy: 0.9933 - loss: 0.0270 - val_accuracy: 0.9996 - val_loss: 0.0015\n",
            "Epoch 7/20\n",
            "1037/1037 - 911s - 878ms/step - accuracy: 0.9975 - loss: 0.0095 - val_accuracy: 1.0000 - val_loss: 9.3148e-07\n",
            "Epoch 8/20\n",
            "1037/1037 - 853s - 823ms/step - accuracy: 0.9966 - loss: 0.0178 - val_accuracy: 1.0000 - val_loss: 1.7340e-05\n",
            "Epoch 9/20\n",
            "1037/1037 - 841s - 811ms/step - accuracy: 0.9980 - loss: 0.0068 - val_accuracy: 1.0000 - val_loss: 2.8276e-06\n",
            "Epoch 10/20\n",
            "1037/1037 - 846s - 815ms/step - accuracy: 0.9958 - loss: 0.0210 - val_accuracy: 1.0000 - val_loss: 1.0882e-05\n",
            "Epoch 11/20\n",
            "1037/1037 - 809s - 781ms/step - accuracy: 0.9968 - loss: 0.0131 - val_accuracy: 1.0000 - val_loss: 4.2148e-05\n",
            "Epoch 12/20\n",
            "1037/1037 - 834s - 805ms/step - accuracy: 0.9975 - loss: 0.0130 - val_accuracy: 1.0000 - val_loss: 2.1187e-06\n"
          ]
        },
        {
          "output_type": "stream",
          "name": "stderr",
          "text": [
            "WARNING:absl:You are saving your model as an HDF5 file via `model.save()` or `keras.saving.save_model(model)`. This file format is considered legacy. We recommend using instead the native Keras format, e.g. `model.save('my_model.keras')` or `keras.saving.save_model(model, 'my_model.keras')`. \n"
          ]
        },
        {
          "output_type": "display_data",
          "data": {
            "text/plain": [
              "<Figure size 1400x500 with 2 Axes>"
            ],
            "image/png": "[encoded data removed]"
          },
          "metadata": {}
        }
      ]
    },
    {
      "cell_type": "markdown",
      "source": [
        "Cross-Validation Summary"
      ],
      "metadata": {
        "id": "NQwLx_c3yNYR"
      }
    },
    {
      "cell_type": "code",
      "source": [
        "print(\"\\n=== Cross-validation Summary ===\")\n",
        "print(\"Fold Accuracies:\", all_fold_accuracies)\n",
        "print(\"Average Accuracy: {:.4f}\".format(np.mean(all_fold_accuracies)))\n",
        "print(\"Standard Deviation: {:.4f}\".format(np.std(all_fold_accuracies)))\n"
      ],
      "metadata": {
        "colab": {
          "base_uri": "https://localhost:8080/"
        },
        "id": "ZSpxis13yPIo",
        "outputId": "ff4ea311-4f52-498a-fe4e-5679afc5dea8"
      },
      "execution_count": null,
      "outputs": [
        {
          "output_type": "stream",
          "name": "stdout",
          "text": [
            "\n",
            "=== Cross-validation Summary ===\n",
            "Fold Accuracies: [1.0, 0.9993972182273865, 1.0]\n",
            "Average Accuracy: 0.9998\n",
            "Standard Deviation: 0.0003\n"
          ]
        }
      ]
    },
    {
      "cell_type": "markdown",
      "source": [
        "Final Test Set Evaluation"
      ],
      "metadata": {
        "id": "JJ8WMbbYyQ1d"
      }
    },
    {
      "cell_type": "code",
      "source": [
        "print(\"\\n=== Final Test Set Evaluation ===\")\n",
        "\n",
        "test_ds = get_dataset(image_paths_test, labels_test)\n",
        "y_test_onehot = tf.one_hot(labels_test, NUM_CLASSES)\n",
        "\n",
        "# Use last trained model (or load your best one)\n",
        "test_loss, test_accuracy = model.evaluate(test_ds, verbose=0)\n",
        "print(f\"Test Accuracy: {test_accuracy:.4f}\")\n",
        "\n",
        "# Predictions\n",
        "y_probs = model.predict(test_ds)\n",
        "y_pred = np.argmax(y_probs, axis=1)\n",
        "y_true = labels_test\n",
        "\n",
        "# Confusion Matrix\n",
        "cm = confusion_matrix(y_true, y_pred)\n",
        "plt.figure(figsize=(10,8))\n",
        "sns.heatmap(cm, annot=True, fmt='d', cmap='Blues',\n",
        "            xticklabels=class_names, yticklabels=class_names)\n",
        "plt.title('Confusion Matrix - Test Set')\n",
        "plt.xlabel('Predicted'); plt.ylabel('True')\n",
        "plt.show()\n",
        "\n",
        "print(classification_report(y_true, y_pred, target_names=class_names))\n"
      ],
      "metadata": {
        "colab": {
          "base_uri": "https://localhost:8080/",
          "height": 996
        },
        "id": "QnR-WL2pyTjz",
        "outputId": "a3bb512a-1d73-4b63-8e67-c5a64d48aa2e"
      },
      "execution_count": null,
      "outputs": [
        {
          "output_type": "stream",
          "name": "stdout",
          "text": [
            "\n",
            "=== Final Test Set Evaluation ===\n",
            "Test Accuracy: 1.0000\n",
            "\u001b[1m275/275\u001b[0m \u001b[32m━━━━━━━━━━━━━━━━━━━━\u001b[0m\u001b[37m\u001b[0m \u001b[1m66s\u001b[0m 237ms/step\n"
          ]
        },
        {
          "output_type": "display_data",
          "data": {
            "text/plain": [
              "<Figure size 1000x800 with 2 Axes>"
            ],
            "image/png": "[encoded data removed]"
          },
          "metadata": {}
        },
        {
          "output_type": "stream",
          "name": "stdout",
          "text": [
            "              precision    recall  f1-score   support\n",
            "\n",
            " Cerscospora       1.00      1.00      1.00      1152\n",
            "     Healthy       1.00      1.00      1.00      2848\n",
            "   Leaf rust       1.00      1.00      1.00      1250\n",
            "       Miner       1.00      1.00      1.00      2547\n",
            "       Phoma       1.00      1.00      1.00       986\n",
            "\n",
            "    accuracy                           1.00      8783\n",
            "   macro avg       1.00      1.00      1.00      8783\n",
            "weighted avg       1.00      1.00      1.00      8783\n",
            "\n"
          ]
        }
      ]
    },
    {
      "cell_type": "code",
      "source": [
        "import os\n",
        "print(os.getcwd())\n"
      ],
      "metadata": {
        "colab": {
          "base_uri": "https://localhost:8080/"
        },
        "id": "qGLWF1gE3D30",
        "outputId": "94613f72-016e-4ecd-f313-801b02c6eaad"
      },
      "execution_count": null,
      "outputs": [
        {
          "output_type": "stream",
          "name": "stdout",
          "text": [
            "/content\n"
          ]
        }
      ]
    },
    {
      "cell_type": "code",
      "source": [
        "import os\n",
        "\n",
        "# List all .h5 files in the current directory\n",
        "model_files = [f for f in os.listdir() if f.endswith('.h5')]\n",
        "print(model_files)\n"
      ],
      "metadata": {
        "colab": {
          "base_uri": "https://localhost:8080/"
        },
        "id": "TfM-Nojv4lYX",
        "outputId": "ee958110-b0d2-4c0d-82b1-05750a841c82"
      },
      "execution_count": null,
      "outputs": [
        {
          "output_type": "stream",
          "name": "stdout",
          "text": [
            "['model_fold_1.h5', 'model_fold_2.h5', 'model_fold_3.h5']\n"
          ]
        }
      ]
    },
    {
      "cell_type": "code",
      "source": [
        "from google.colab import files\n",
        "files.download('model_fold_1.h5')  # Replace with actual filename\n"
      ],
      "metadata": {
        "colab": {
          "base_uri": "https://localhost:8080/",
          "height": 17
        },
        "id": "zlfDuMK_4qs_",
        "outputId": "c2068b01-405a-40db-f888-9afbc0dfe433"
      },
      "execution_count": null,
      "outputs": [
        {
          "output_type": "display_data",
          "data": {
            "text/plain": [
              "<IPython.core.display.Javascript object>"
            ],
            "application/javascript": [
              "\n",
              "    async function download(id, filename, size) {\n",
              "      if (!google.colab.kernel.accessAllowed) {\n",
              "        return;\n",
              "      }\n",
              "      const div = document.createElement('div');\n",
              "      const label = document.createElement('label');\n",
              "      label.textContent = `Downloading \"${filename}\": `;\n",
              "      div.appendChild(label);\n",
              "      const progress = document.createElement('progress');\n",
              "      progress.max = size;\n",
              "      div.appendChild(progress);\n",
              "      document.body.appendChild(div);\n",
              "\n",
              "      const buffers = [];\n",
              "      let downloaded = 0;\n",
              "\n",
              "      const channel = await google.colab.kernel.comms.open(id);\n",
              "      // Send a message to notify the kernel that we're ready.\n",
              "      channel.send({})\n",
              "\n",
              "      for await (const message of channel.messages) {\n",
              "        // Send a message to notify the kernel that we're ready.\n",
              "        channel.send({})\n",
              "        if (message.buffers) {\n",
              "          for (const buffer of message.buffers) {\n",
              "            buffers.push(buffer);\n",
              "            downloaded += buffer.byteLength;\n",
              "            progress.value = downloaded;\n",
              "          }\n",
              "        }\n",
              "      }\n",
              "      const blob = new Blob(buffers, {type: 'application/binary'});\n",
              "      const a = document.createElement('a');\n",
              "      a.href = window.URL.createObjectURL(blob);\n",
              "      a.download = filename;\n",
              "      div.appendChild(a);\n",
              "      a.click();\n",
              "      div.remove();\n",
              "    }\n",
              "  "
            ]
          },
          "metadata": {}
        },
        {
          "output_type": "display_data",
          "data": {
            "text/plain": [
              "<IPython.core.display.Javascript object>"
            ],
            "application/javascript": [
              "download(\"download_da91e78b-0486-4dc4-ad37-5e6068eb6bcc\", \"model_fold_1.h5\", 39710496)"
            ]
          },
          "metadata": {}
        }
      ]
    },
    {
      "cell_type": "code",
      "source": [
        "from google.colab import files\n",
        "files.download('model_fold_2.h5')  # Replace with actual filename\n"
      ],
      "metadata": {
        "colab": {
          "base_uri": "https://localhost:8080/",
          "height": 17
        },
        "id": "XuSGjaju4stp",
        "outputId": "9942b846-bd0a-4b16-ae85-872540be17ae"
      },
      "execution_count": null,
      "outputs": [
        {
          "output_type": "display_data",
          "data": {
            "text/plain": [
              "<IPython.core.display.Javascript object>"
            ],
            "application/javascript": [
              "\n",
              "    async function download(id, filename, size) {\n",
              "      if (!google.colab.kernel.accessAllowed) {\n",
              "        return;\n",
              "      }\n",
              "      const div = document.createElement('div');\n",
              "      const label = document.createElement('label');\n",
              "      label.textContent = `Downloading \"${filename}\": `;\n",
              "      div.appendChild(label);\n",
              "      const progress = document.createElement('progress');\n",
              "      progress.max = size;\n",
              "      div.appendChild(progress);\n",
              "      document.body.appendChild(div);\n",
              "\n",
              "      const buffers = [];\n",
              "      let downloaded = 0;\n",
              "\n",
              "      const channel = await google.colab.kernel.comms.open(id);\n",
              "      // Send a message to notify the kernel that we're ready.\n",
              "      channel.send({})\n",
              "\n",
              "      for await (const message of channel.messages) {\n",
              "        // Send a message to notify the kernel that we're ready.\n",
              "        channel.send({})\n",
              "        if (message.buffers) {\n",
              "          for (const buffer of message.buffers) {\n",
              "            buffers.push(buffer);\n",
              "            downloaded += buffer.byteLength;\n",
              "            progress.value = downloaded;\n",
              "          }\n",
              "        }\n",
              "      }\n",
              "      const blob = new Blob(buffers, {type: 'application/binary'});\n",
              "      const a = document.createElement('a');\n",
              "      a.href = window.URL.createObjectURL(blob);\n",
              "      a.download = filename;\n",
              "      div.appendChild(a);\n",
              "      a.click();\n",
              "      div.remove();\n",
              "    }\n",
              "  "
            ]
          },
          "metadata": {}
        },
        {
          "output_type": "display_data",
          "data": {
            "text/plain": [
              "<IPython.core.display.Javascript object>"
            ],
            "application/javascript": [
              "download(\"download_c1ecefee-7462-4791-97a6-86742cfeeaf4\", \"model_fold_2.h5\", 39710768)"
            ]
          },
          "metadata": {}
        }
      ]
    },
    {
      "cell_type": "code",
      "source": [
        "from google.colab import files\n",
        "files.download('model_fold_3.h5')  # Replace with actual filename\n"
      ],
      "metadata": {
        "colab": {
          "base_uri": "https://localhost:8080/",
          "height": 34
        },
        "id": "m--a5bGc4uPm",
        "outputId": "9132370f-d17d-48d9-d9f8-049caaf97926"
      },
      "execution_count": null,
      "outputs": [
        {
          "output_type": "display_data",
          "data": {
            "text/plain": [
              "<IPython.core.display.Javascript object>"
            ],
            "application/javascript": [
              "\n",
              "    async function download(id, filename, size) {\n",
              "      if (!google.colab.kernel.accessAllowed) {\n",
              "        return;\n",
              "      }\n",
              "      const div = document.createElement('div');\n",
              "      const label = document.createElement('label');\n",
              "      label.textContent = `Downloading \"${filename}\": `;\n",
              "      div.appendChild(label);\n",
              "      const progress = document.createElement('progress');\n",
              "      progress.max = size;\n",
              "      div.appendChild(progress);\n",
              "      document.body.appendChild(div);\n",
              "\n",
              "      const buffers = [];\n",
              "      let downloaded = 0;\n",
              "\n",
              "      const channel = await google.colab.kernel.comms.open(id);\n",
              "      // Send a message to notify the kernel that we're ready.\n",
              "      channel.send({})\n",
              "\n",
              "      for await (const message of channel.messages) {\n",
              "        // Send a message to notify the kernel that we're ready.\n",
              "        channel.send({})\n",
              "        if (message.buffers) {\n",
              "          for (const buffer of message.buffers) {\n",
              "            buffers.push(buffer);\n",
              "            downloaded += buffer.byteLength;\n",
              "            progress.value = downloaded;\n",
              "          }\n",
              "        }\n",
              "      }\n",
              "      const blob = new Blob(buffers, {type: 'application/binary'});\n",
              "      const a = document.createElement('a');\n",
              "      a.href = window.URL.createObjectURL(blob);\n",
              "      a.download = filename;\n",
              "      div.appendChild(a);\n",
              "      a.click();\n",
              "      div.remove();\n",
              "    }\n",
              "  "
            ]
          },
          "metadata": {}
        },
        {
          "output_type": "display_data",
          "data": {
            "text/plain": [
              "<IPython.core.display.Javascript object>"
            ],
            "application/javascript": [
              "download(\"download_7fb7e37d-2620-4a88-b1c3-fad0c635edad\", \"model_fold_3.h5\", 39710768)"
            ]
          },
          "metadata": {}
        }
      ]
    }
  ]
}